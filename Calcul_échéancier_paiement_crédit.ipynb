{
  "nbformat": 4,
  "nbformat_minor": 0,
  "metadata": {
    "colab": {
      "name": "Calcul échéancier paiement crédit.ipynb",
      "provenance": [],
      "collapsed_sections": [],
      "authorship_tag": "ABX9TyMNVG/PusRt7AQ/q1+TisAh",
      "include_colab_link": true
    },
    "kernelspec": {
      "name": "python3",
      "display_name": "Python 3"
    }
  },
  "cells": [
    {
      "cell_type": "markdown",
      "metadata": {
        "id": "view-in-github",
        "colab_type": "text"
      },
      "source": [
        "<a href=\"https://colab.research.google.com/github/mohamedmhe/Calcul-de-cash-flow/blob/main/Calcul_%C3%A9ch%C3%A9ancier_paiement_cr%C3%A9dit.ipynb\" target=\"_parent\"><img src=\"https://colab.research.google.com/assets/colab-badge.svg\" alt=\"Open In Colab\"/></a>"
      ]
    },
    {
      "cell_type": "code",
      "metadata": {
        "id": "4KpToPpEGW_K",
        "outputId": "62178149-4075-4dbb-d626-dbff609694b6",
        "colab": {
          "base_uri": "https://localhost:8080/"
        }
      },
      "source": [
        "#dataframe\n",
        "import pandas as pd\n",
        "Capital_emprunté = 30000\n",
        "Taux_annuel = 0.9/100\n",
        "Durée_du_prêt = 5\n",
        "Reste = Capital_emprunté\n",
        "Mensualité = ((Capital_emprunté*(Taux_annuel/12))/(1-(1+(Taux_annuel/12))**(-Durée_du_prêt*12)))\n",
        "montant_des_intérêts = 12*Durée_du_prêt*Mensualité-Capital_emprunté\n",
        "df = pd.DataFrame(columns=['Mois','Mensualité','Intérêts','Capital_remboursé','Reste'])\n",
        " \n",
        "for k in range (1,1+Durée_du_prêt*12):\n",
        "  k = (k)\n",
        "  Intérêts = (Reste*Taux_annuel/12)\n",
        "  Capital_remboursé = (Mensualité-Intérêts)\n",
        "  Reste = (Reste-Capital_remboursé)\n",
        "  df = df.append({'Mois': round(k),'Mensualité':round(Mensualité),'Intérêts':round(Intérêts),'Capital_remboursé':round(Capital_remboursé),'Reste':round(Reste)},ignore_index=True)\n",
        "print(df)\n",
        "print(round(montant_des_intérêts),\"€ d'Intérêts\")"
      ],
      "execution_count": null,
      "outputs": [
        {
          "output_type": "stream",
          "text": [
            "   Mois Mensualité Intérêts Capital_remboursé  Reste\n",
            "0     1        512       23               489  29511\n",
            "1     2        512       22               489  29022\n",
            "2     3        512       22               490  28532\n",
            "3     4        512       21               490  28042\n",
            "4     5        512       21               490  27551\n",
            "5     6        512       21               491  27060\n",
            "6     7        512       20               491  26569\n",
            "7     8        512       20               492  26078\n",
            "8     9        512       20               492  25586\n",
            "9    10        512       19               492  25093\n",
            "10   11        512       19               493  24601\n",
            "11   12        512       18               493  24107\n",
            "12   13        512       18               493  23614\n",
            "13   14        512       18               494  23120\n",
            "14   15        512       17               494  22626\n",
            "15   16        512       17               495  22131\n",
            "16   17        512       17               495  21637\n",
            "17   18        512       16               495  21141\n",
            "18   19        512       16               496  20646\n",
            "19   20        512       15               496  20150\n",
            "20   21        512       15               496  19653\n",
            "21   22        512       15               497  19156\n",
            "22   23        512       14               497  18659\n",
            "23   24        512       14               498  18162\n",
            "24   25        512       14               498  17664\n",
            "25   26        512       13               498  17166\n",
            "26   27        512       13               499  16667\n",
            "27   28        512       13               499  16168\n",
            "28   29        512       12               499  15668\n",
            "29   30        512       12               500  15169\n",
            "30   31        512       11               500  14669\n",
            "31   32        512       11               501  14168\n",
            "32   33        512       11               501  13667\n",
            "33   34        512       10               501  13166\n",
            "34   35        512       10               502  12664\n",
            "35   36        512        9               502  12162\n",
            "36   37        512        9               502  11660\n",
            "37   38        512        9               503  11157\n",
            "38   39        512        8               503  10654\n",
            "39   40        512        8               504  10150\n",
            "40   41        512        8               504   9646\n",
            "41   42        512        7               504   9142\n",
            "42   43        512        7               505   8637\n",
            "43   44        512        6               505   8132\n",
            "44   45        512        6               505   7627\n",
            "45   46        512        6               506   7121\n",
            "46   47        512        5               506   6615\n",
            "47   48        512        5               507   6108\n",
            "48   49        512        5               507   5602\n",
            "49   50        512        4               507   5094\n",
            "50   51        512        4               508   4586\n",
            "51   52        512        3               508   4078\n",
            "52   53        512        3               508   3570\n",
            "53   54        512        3               509   3061\n",
            "54   55        512        2               509   2552\n",
            "55   56        512        2               510   2042\n",
            "56   57        512        2               510   1532\n",
            "57   58        512        1               510   1022\n",
            "58   59        512        1               511    511\n",
            "59   60        512        0               511      0\n",
            "691 € d'Intérêts\n"
          ],
          "name": "stdout"
        }
      ]
    },
    {
      "cell_type": "markdown",
      "metadata": {
        "id": "R3qa1dPsGfn8"
      },
      "source": [
        "Source : https://www.pretto.fr/simulation-pret-immobilier/simulation-pret-banque/tableau-amortissement-excel/"
      ]
    }
  ]
}