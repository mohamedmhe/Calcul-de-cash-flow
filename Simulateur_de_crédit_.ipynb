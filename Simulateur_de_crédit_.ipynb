{
  "nbformat": 4,
  "nbformat_minor": 0,
  "metadata": {
    "colab": {
      "name": "Simulateur de crédit .ipynb",
      "provenance": [],
      "include_colab_link": true
    },
    "kernelspec": {
      "name": "python3",
      "display_name": "Python 3"
    }
  },
  "cells": [
    {
      "cell_type": "markdown",
      "metadata": {
        "id": "view-in-github",
        "colab_type": "text"
      },
      "source": [
        "<a href=\"https://colab.research.google.com/github/mohamedmhe/Calcul-de-cash-flow/blob/main/Simulateur_de_cr%C3%A9dit_.ipynb\" target=\"_parent\"><img src=\"https://colab.research.google.com/assets/colab-badge.svg\" alt=\"Open In Colab\"/></a>"
      ]
    },
    {
      "cell_type": "markdown",
      "metadata": {
        "id": "Oqy5tyNpYewS"
      },
      "source": [
        "##Formule pour calculer le montant des mensualités\n",
        "Soit le capital emprunté C0, le taux nominal annuel t (ou taux annuel proportionnel (à ne pas confondre avec le taux actuariel)), la durée en mois n, alors la formule de la mensualité d'un crédit à remboursement constant est égale à : m = [C × t/12]/[1−(1 + t/12)^(−n)].\n"
      ]
    },
    {
      "cell_type": "code",
      "metadata": {
        "id": "n_5kSAQPda9g",
        "outputId": "e2fde0b8-d3ab-483f-85ac-f0baf26a2339",
        "colab": {
          "base_uri": "https://localhost:8080/",
          "height": 34
        }
      },
      "source": [
        "Capital_emprunté = 200000\n",
        "Taux_annuel = 1.3/100\n",
        "Durée_du_prêt = 10\n",
        "\n",
        "Mensualité = (Capital_emprunté*(Taux_annuel/12))/(1-(1+(Taux_annuel/12))**(-Durée_du_prêt*12))\n",
        "print(Mensualité)"
      ],
      "execution_count": 6,
      "outputs": [
        {
          "output_type": "stream",
          "text": [
            "1778.2479067960855\n"
          ],
          "name": "stdout"
        }
      ]
    },
    {
      "cell_type": "markdown",
      "metadata": {
        "id": "K0n0XbOMgmNz"
      },
      "source": [
        "Formule pour calculer le montant total des intérêts "
      ]
    },
    {
      "cell_type": "code",
      "metadata": {
        "id": "S6jMe72sYQR6",
        "outputId": "db639018-3b3e-4c5e-b707-3f316dbd052e",
        "colab": {
          "base_uri": "https://localhost:8080/",
          "height": 34
        }
      },
      "source": [
        "montant_des_intérêts = 12*Durée_du_prêt*Mensualité-Capital_emprunté\n",
        "montant_des_intérêts"
      ],
      "execution_count": 7,
      "outputs": [
        {
          "output_type": "execute_result",
          "data": {
            "text/plain": [
              "13389.74881553027"
            ]
          },
          "metadata": {
            "tags": []
          },
          "execution_count": 7
        }
      ]
    },
    {
      "cell_type": "markdown",
      "metadata": {
        "id": "U1V-BYWwocV-"
      },
      "source": [
        "interet mensuel"
      ]
    },
    {
      "cell_type": "code",
      "metadata": {
        "id": "93CpYsWRk_cL",
        "outputId": "5395bc49-f407-4077-c0a8-f7bd95abf152",
        "colab": {
          "base_uri": "https://localhost:8080/",
          "height": 34
        }
      },
      "source": [
        "Intérêts_M1 = Capital_emprunté*Taux_annuel/12\n",
        "Intérêts_M1"
      ],
      "execution_count": 11,
      "outputs": [
        {
          "output_type": "execute_result",
          "data": {
            "text/plain": [
              "216.6666666666667"
            ]
          },
          "metadata": {
            "tags": []
          },
          "execution_count": 11
        }
      ]
    },
    {
      "cell_type": "markdown",
      "metadata": {
        "id": "0tpXg7WNsVcI"
      },
      "source": [
        "Capital remboursé"
      ]
    },
    {
      "cell_type": "code",
      "metadata": {
        "id": "XEUDKBsssSDr",
        "outputId": "a5fa9ab1-3681-4bbd-bd78-e3d473f0c72a",
        "colab": {
          "base_uri": "https://localhost:8080/",
          "height": 34
        }
      },
      "source": [
        "Capital_remboursé_M1 = Mensualité-Intérêts_M1\n",
        "Capital_remboursé_M1"
      ],
      "execution_count": 14,
      "outputs": [
        {
          "output_type": "execute_result",
          "data": {
            "text/plain": [
              "1561.5812401294188"
            ]
          },
          "metadata": {
            "tags": []
          },
          "execution_count": 14
        }
      ]
    },
    {
      "cell_type": "markdown",
      "metadata": {
        "id": "U-BFUrc1kGaB"
      },
      "source": [
        "Reste du capital remboursé le premier mois"
      ]
    },
    {
      "cell_type": "code",
      "metadata": {
        "id": "tJRPKQUdibNZ",
        "outputId": "4dec3ebe-1d30-4369-bc7e-ccce7f7b0bd0",
        "colab": {
          "base_uri": "https://localhost:8080/",
          "height": 34
        }
      },
      "source": [
        "Reste_M1 = Capital_emprunté-Capital_remboursé_M1\n",
        "Reste_M1"
      ],
      "execution_count": 15,
      "outputs": [
        {
          "output_type": "execute_result",
          "data": {
            "text/plain": [
              "198438.41875987058"
            ]
          },
          "metadata": {
            "tags": []
          },
          "execution_count": 15
        }
      ]
    },
    {
      "cell_type": "markdown",
      "metadata": {
        "id": "JXQS2Bl-y-Xj"
      },
      "source": [
        "#Algorithme pour l'echéancier de paiement"
      ]
    },
    {
      "cell_type": "code",
      "metadata": {
        "id": "jQEjFzMKzGST",
        "outputId": "71e553c7-25c3-4b88-e30d-e8e79f1cd86c",
        "colab": {
          "base_uri": "https://localhost:8080/",
          "height": 1000
        }
      },
      "source": [
        "Capital_emprunté = 200000\n",
        "Taux_annuel = 1.3/100\n",
        "Durée_du_prêt = 10\n",
        "\n",
        "for k in range (1,1+Durée_du_prêt*12):\n",
        "  k = k\n",
        "  Mensualité = (Capital_emprunté*(Taux_annuel/12))/(1-(1+(Taux_annuel/12))**(-Durée_du_prêt*12))\n",
        "  print(k,round(Mensualité))\n"
      ],
      "execution_count": 20,
      "outputs": [
        {
          "output_type": "stream",
          "text": [
            "1 1778\n",
            "2 1778\n",
            "3 1778\n",
            "4 1778\n",
            "5 1778\n",
            "6 1778\n",
            "7 1778\n",
            "8 1778\n",
            "9 1778\n",
            "10 1778\n",
            "11 1778\n",
            "12 1778\n",
            "13 1778\n",
            "14 1778\n",
            "15 1778\n",
            "16 1778\n",
            "17 1778\n",
            "18 1778\n",
            "19 1778\n",
            "20 1778\n",
            "21 1778\n",
            "22 1778\n",
            "23 1778\n",
            "24 1778\n",
            "25 1778\n",
            "26 1778\n",
            "27 1778\n",
            "28 1778\n",
            "29 1778\n",
            "30 1778\n",
            "31 1778\n",
            "32 1778\n",
            "33 1778\n",
            "34 1778\n",
            "35 1778\n",
            "36 1778\n",
            "37 1778\n",
            "38 1778\n",
            "39 1778\n",
            "40 1778\n",
            "41 1778\n",
            "42 1778\n",
            "43 1778\n",
            "44 1778\n",
            "45 1778\n",
            "46 1778\n",
            "47 1778\n",
            "48 1778\n",
            "49 1778\n",
            "50 1778\n",
            "51 1778\n",
            "52 1778\n",
            "53 1778\n",
            "54 1778\n",
            "55 1778\n",
            "56 1778\n",
            "57 1778\n",
            "58 1778\n",
            "59 1778\n",
            "60 1778\n",
            "61 1778\n",
            "62 1778\n",
            "63 1778\n",
            "64 1778\n",
            "65 1778\n",
            "66 1778\n",
            "67 1778\n",
            "68 1778\n",
            "69 1778\n",
            "70 1778\n",
            "71 1778\n",
            "72 1778\n",
            "73 1778\n",
            "74 1778\n",
            "75 1778\n",
            "76 1778\n",
            "77 1778\n",
            "78 1778\n",
            "79 1778\n",
            "80 1778\n",
            "81 1778\n",
            "82 1778\n",
            "83 1778\n",
            "84 1778\n",
            "85 1778\n",
            "86 1778\n",
            "87 1778\n",
            "88 1778\n",
            "89 1778\n",
            "90 1778\n",
            "91 1778\n",
            "92 1778\n",
            "93 1778\n",
            "94 1778\n",
            "95 1778\n",
            "96 1778\n",
            "97 1778\n",
            "98 1778\n",
            "99 1778\n",
            "100 1778\n",
            "101 1778\n",
            "102 1778\n",
            "103 1778\n",
            "104 1778\n",
            "105 1778\n",
            "106 1778\n",
            "107 1778\n",
            "108 1778\n",
            "109 1778\n",
            "110 1778\n",
            "111 1778\n",
            "112 1778\n",
            "113 1778\n",
            "114 1778\n",
            "115 1778\n",
            "116 1778\n",
            "117 1778\n",
            "118 1778\n",
            "119 1778\n",
            "120 1778\n"
          ],
          "name": "stdout"
        }
      ]
    }
  ]
}