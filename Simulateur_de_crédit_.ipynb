{
  "nbformat": 4,
  "nbformat_minor": 0,
  "metadata": {
    "colab": {
      "name": "Simulateur de crédit .ipynb",
      "provenance": [],
      "include_colab_link": true
    },
    "kernelspec": {
      "name": "python3",
      "display_name": "Python 3"
    }
  },
  "cells": [
    {
      "cell_type": "markdown",
      "metadata": {
        "id": "view-in-github",
        "colab_type": "text"
      },
      "source": [
        "<a href=\"https://colab.research.google.com/github/mohamedmhe/Calcul-de-cash-flow/blob/main/Simulateur_de_cr%C3%A9dit_.ipynb\" target=\"_parent\"><img src=\"https://colab.research.google.com/assets/colab-badge.svg\" alt=\"Open In Colab\"/></a>"
      ]
    },
    {
      "cell_type": "markdown",
      "metadata": {
        "id": "Oqy5tyNpYewS"
      },
      "source": [
        "##Formule pour calculer le montant des mensualités\n",
        "Soit le capital emprunté C0, le taux nominal annuel t (ou taux annuel proportionnel (à ne pas confondre avec le taux actuariel)), la durée en mois n, alors la formule de la mensualité d'un crédit à remboursement constant est égale à : m = [C × t/12]/[1−(1 + t/12)^(−n)].\n"
      ]
    },
    {
      "cell_type": "code",
      "metadata": {
        "id": "n_5kSAQPda9g",
        "outputId": "e2fde0b8-d3ab-483f-85ac-f0baf26a2339",
        "colab": {
          "base_uri": "https://localhost:8080/",
          "height": 34
        }
      },
      "source": [
        "Capital_emprunté = 200000\n",
        "Taux_annuel = 1.3/100\n",
        "Durée_du_prêt = 10\n",
        "\n",
        "Mensualité = (Capital_emprunté*(Taux_annuel/12))/(1-(1+(Taux_annuel/12))**(-Durée_du_prêt*12))\n",
        "print(Mensualité)"
      ],
      "execution_count": null,
      "outputs": [
        {
          "output_type": "stream",
          "text": [
            "1778.2479067960855\n"
          ],
          "name": "stdout"
        }
      ]
    },
    {
      "cell_type": "markdown",
      "metadata": {
        "id": "K0n0XbOMgmNz"
      },
      "source": [
        "Formule pour calculer le montant total des intérêts "
      ]
    },
    {
      "cell_type": "code",
      "metadata": {
        "id": "S6jMe72sYQR6",
        "outputId": "db639018-3b3e-4c5e-b707-3f316dbd052e",
        "colab": {
          "base_uri": "https://localhost:8080/",
          "height": 34
        }
      },
      "source": [
        "montant_des_intérêts = 12*Durée_du_prêt*Mensualité-Capital_emprunté\n",
        "montant_des_intérêts"
      ],
      "execution_count": null,
      "outputs": [
        {
          "output_type": "execute_result",
          "data": {
            "text/plain": [
              "13389.74881553027"
            ]
          },
          "metadata": {
            "tags": []
          },
          "execution_count": 7
        }
      ]
    },
    {
      "cell_type": "markdown",
      "metadata": {
        "id": "U1V-BYWwocV-"
      },
      "source": [
        "interet mensuel"
      ]
    },
    {
      "cell_type": "code",
      "metadata": {
        "id": "93CpYsWRk_cL",
        "outputId": "5395bc49-f407-4077-c0a8-f7bd95abf152",
        "colab": {
          "base_uri": "https://localhost:8080/",
          "height": 34
        }
      },
      "source": [
        "Intérêts_M1 = Capital_emprunté*Taux_annuel/12\n",
        "Intérêts_M1"
      ],
      "execution_count": null,
      "outputs": [
        {
          "output_type": "execute_result",
          "data": {
            "text/plain": [
              "216.6666666666667"
            ]
          },
          "metadata": {
            "tags": []
          },
          "execution_count": 11
        }
      ]
    },
    {
      "cell_type": "markdown",
      "metadata": {
        "id": "0tpXg7WNsVcI"
      },
      "source": [
        "Capital remboursé"
      ]
    },
    {
      "cell_type": "code",
      "metadata": {
        "id": "XEUDKBsssSDr",
        "outputId": "a5fa9ab1-3681-4bbd-bd78-e3d473f0c72a",
        "colab": {
          "base_uri": "https://localhost:8080/",
          "height": 34
        }
      },
      "source": [
        "Capital_remboursé_M1 = Mensualité-Intérêts_M1\n",
        "Capital_remboursé_M1"
      ],
      "execution_count": null,
      "outputs": [
        {
          "output_type": "execute_result",
          "data": {
            "text/plain": [
              "1561.5812401294188"
            ]
          },
          "metadata": {
            "tags": []
          },
          "execution_count": 14
        }
      ]
    },
    {
      "cell_type": "markdown",
      "metadata": {
        "id": "U-BFUrc1kGaB"
      },
      "source": [
        "Reste du capital remboursé le premier mois"
      ]
    },
    {
      "cell_type": "code",
      "metadata": {
        "id": "tJRPKQUdibNZ",
        "outputId": "4dec3ebe-1d30-4369-bc7e-ccce7f7b0bd0",
        "colab": {
          "base_uri": "https://localhost:8080/",
          "height": 34
        }
      },
      "source": [
        "Reste_M1 = Capital_emprunté-Capital_remboursé_M1\n",
        "Reste_M1"
      ],
      "execution_count": null,
      "outputs": [
        {
          "output_type": "execute_result",
          "data": {
            "text/plain": [
              "198438.41875987058"
            ]
          },
          "metadata": {
            "tags": []
          },
          "execution_count": 15
        }
      ]
    },
    {
      "cell_type": "markdown",
      "metadata": {
        "id": "JXQS2Bl-y-Xj"
      },
      "source": [
        "#Algorithme pour l'echéancier de paiement"
      ]
    },
    {
      "cell_type": "code",
      "metadata": {
        "id": "jQEjFzMKzGST",
        "outputId": "02cec19a-72ae-4b9e-861a-360ac7275bda",
        "colab": {
          "base_uri": "https://localhost:8080/",
          "height": 1000
        }
      },
      "source": [
        "Capital_emprunté = 200000\n",
        "Taux_annuel = 1.3/100\n",
        "Durée_du_prêt = 10\n",
        "Reste = Capital_emprunté\n",
        "\n",
        "for k in range (1,1+Durée_du_prêt*12):\n",
        "  k = k\n",
        "  Mensualité = (Capital_emprunté*(Taux_annuel/12))/(1-(1+(Taux_annuel/12))**(-Durée_du_prêt*12))\n",
        "  Intérêts = Reste*Taux_annuel/12\n",
        "  Capital_remboursé = Mensualité-Intérêts\n",
        "  Reste = Reste-Capital_remboursé\n",
        "  print(k,round(Mensualité),round(Capital_remboursé),round(Intérêts),round(Reste))\n"
      ],
      "execution_count": 8,
      "outputs": [
        {
          "output_type": "stream",
          "text": [
            "1 1778 1562 217 198438\n",
            "2 1778 1563 215 196875\n",
            "3 1778 1565 213 195310\n",
            "4 1778 1567 212 193744\n",
            "5 1778 1568 210 192175\n",
            "6 1778 1570 208 190605\n",
            "7 1778 1572 206 189033\n",
            "8 1778 1573 205 187460\n",
            "9 1778 1575 203 185885\n",
            "10 1778 1577 201 184308\n",
            "11 1778 1579 200 182729\n",
            "12 1778 1580 198 181149\n",
            "13 1778 1582 196 179567\n",
            "14 1778 1584 195 177983\n",
            "15 1778 1585 193 176398\n",
            "16 1778 1587 191 174811\n",
            "17 1778 1589 189 173222\n",
            "18 1778 1591 188 171631\n",
            "19 1778 1592 186 170039\n",
            "20 1778 1594 184 168445\n",
            "21 1778 1596 182 166849\n",
            "22 1778 1597 181 165252\n",
            "23 1778 1599 179 163652\n",
            "24 1778 1601 177 162051\n",
            "25 1778 1603 176 160449\n",
            "26 1778 1604 174 158844\n",
            "27 1778 1606 172 157238\n",
            "28 1778 1608 170 155630\n",
            "29 1778 1610 169 154021\n",
            "30 1778 1611 167 152409\n",
            "31 1778 1613 165 150796\n",
            "32 1778 1615 163 149181\n",
            "33 1778 1617 162 147565\n",
            "34 1778 1618 160 145946\n",
            "35 1778 1620 158 144326\n",
            "36 1778 1622 156 142704\n",
            "37 1778 1624 155 141080\n",
            "38 1778 1625 153 139455\n",
            "39 1778 1627 151 137828\n",
            "40 1778 1629 149 136199\n",
            "41 1778 1631 148 134568\n",
            "42 1778 1632 146 132936\n",
            "43 1778 1634 144 131302\n",
            "44 1778 1636 142 129666\n",
            "45 1778 1638 140 128028\n",
            "46 1778 1640 139 126388\n",
            "47 1778 1641 137 124747\n",
            "48 1778 1643 135 123104\n",
            "49 1778 1645 133 121459\n",
            "50 1778 1647 132 119812\n",
            "51 1778 1648 130 118164\n",
            "52 1778 1650 128 116514\n",
            "53 1778 1652 126 114861\n",
            "54 1778 1654 124 113208\n",
            "55 1778 1656 123 111552\n",
            "56 1778 1657 121 109895\n",
            "57 1778 1659 119 108235\n",
            "58 1778 1661 117 106574\n",
            "59 1778 1663 115 104912\n",
            "60 1778 1665 114 103247\n",
            "61 1778 1666 112 101581\n",
            "62 1778 1668 110 99912\n",
            "63 1778 1670 108 98242\n",
            "64 1778 1672 106 96571\n",
            "65 1778 1674 105 94897\n",
            "66 1778 1675 103 93222\n",
            "67 1778 1677 101 91544\n",
            "68 1778 1679 99 89865\n",
            "69 1778 1681 97 88184\n",
            "70 1778 1683 96 86502\n",
            "71 1778 1685 94 84817\n",
            "72 1778 1686 92 83131\n",
            "73 1778 1688 90 81443\n",
            "74 1778 1690 88 79753\n",
            "75 1778 1692 86 78061\n",
            "76 1778 1694 85 76367\n",
            "77 1778 1696 83 74672\n",
            "78 1778 1697 81 72974\n",
            "79 1778 1699 79 71275\n",
            "80 1778 1701 77 69574\n",
            "81 1778 1703 75 67871\n",
            "82 1778 1705 74 66166\n",
            "83 1778 1707 72 64460\n",
            "84 1778 1708 70 62751\n",
            "85 1778 1710 68 61041\n",
            "86 1778 1712 66 59329\n",
            "87 1778 1714 64 57615\n",
            "88 1778 1716 62 55899\n",
            "89 1778 1718 61 54181\n",
            "90 1778 1720 59 52462\n",
            "91 1778 1721 57 50740\n",
            "92 1778 1723 55 49017\n",
            "93 1778 1725 53 47292\n",
            "94 1778 1727 51 45565\n",
            "95 1778 1729 49 43836\n",
            "96 1778 1731 47 42105\n",
            "97 1778 1733 46 40373\n",
            "98 1778 1735 44 38638\n",
            "99 1778 1736 42 36902\n",
            "100 1778 1738 40 35164\n",
            "101 1778 1740 38 33423\n",
            "102 1778 1742 36 31681\n",
            "103 1778 1744 34 29937\n",
            "104 1778 1746 32 28192\n",
            "105 1778 1748 31 26444\n",
            "106 1778 1750 29 24694\n",
            "107 1778 1751 27 22943\n",
            "108 1778 1753 25 21189\n",
            "109 1778 1755 23 19434\n",
            "110 1778 1757 21 17677\n",
            "111 1778 1759 19 15918\n",
            "112 1778 1761 17 14157\n",
            "113 1778 1763 15 12394\n",
            "114 1778 1765 13 10629\n",
            "115 1778 1767 12 8862\n",
            "116 1778 1769 10 7094\n",
            "117 1778 1771 8 5323\n",
            "118 1778 1772 6 3551\n",
            "119 1778 1774 4 1776\n",
            "120 1778 1776 2 0\n"
          ],
          "name": "stdout"
        }
      ]
    }
  ]
}